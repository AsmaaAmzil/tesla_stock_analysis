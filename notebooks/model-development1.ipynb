{
 "cells": [
  {
   "cell_type": "markdown",
   "id": "79ef0547",
   "metadata": {},
   "source": [
    "# 3. Model Development\n",
    "\n",
    "This notebook implements various regression models for Tesla stock price prediction."
   ]
  },
  {
   "cell_type": "code",
   "execution_count": 1,
   "id": "8da4f2ec",
   "metadata": {},
   "outputs": [],
   "source": [
    "import pandas as pd\n",
    "import numpy as np\n",
    "from sklearn.model_selection import train_test_split\n",
    "from sklearn.linear_model import LinearRegression, Ridge, Lasso\n",
    "from sklearn.tree import DecisionTreeRegressor\n",
    "from sklearn.ensemble import RandomForestRegressor\n",
    "from sklearn.metrics import mean_squared_error, r2_score\n",
    "import matplotlib.pyplot as plt\n",
    "\n",
    "%matplotlib inline"
   ]
  },
  {
   "cell_type": "markdown",
   "id": "ade0bee7",
   "metadata": {},
   "source": [
    "## 3.1 Data Preparation"
   ]
  },
  {
   "cell_type": "code",
   "execution_count": 2,
   "id": "a8f0ad35",
   "metadata": {},
   "outputs": [
    {
     "name": "stdout",
     "output_type": "stream",
     "text": [
      "Training set shape: (1437, 11)\n",
      "Validation set shape: (479, 11)\n",
      "Test set shape: (480, 11)\n"
     ]
    }
   ],
   "source": [
    "# Load processed data\n",
    "df = pd.read_csv('../data/TSLA_processed.csv')\n",
    "\n",
    "# Define features and target\n",
    "X = df.drop('Close', axis=1)\n",
    "y = df['Close']\n",
    "\n",
    "# Split data into train, validation, and test sets (60-20-20)\n",
    "X_temp, X_test, y_temp, y_test = train_test_split(X, y, test_size=0.2, random_state=42)\n",
    "X_train, X_val, y_train, y_val = train_test_split(X_temp, y_temp, test_size=0.25, random_state=42)\n",
    "\n",
    "print(\"Training set shape:\", X_train.shape)\n",
    "print(\"Validation set shape:\", X_val.shape)\n",
    "print(\"Test set shape:\", X_test.shape)"
   ]
  },
  {
   "cell_type": "markdown",
   "id": "064ef1e6",
   "metadata": {},
   "source": [
    "## 3.2 Linear Regression Model"
   ]
  },
  {
   "cell_type": "code",
   "execution_count": 3,
   "id": "9dc31b0d",
   "metadata": {},
   "outputs": [
    {
     "name": "stdout",
     "output_type": "stream",
     "text": [
      "Linear Regression Performance on Validation Set:\n",
      "R² Score: 0.9998\n",
      "RMSE: 1.7720\n"
     ]
    }
   ],
   "source": [
    "# Train Linear Regression model\n",
    "lr_model = LinearRegression()\n",
    "lr_model.fit(X_train, y_train)\n",
    "\n",
    "# Make predictions\n",
    "lr_pred_val = lr_model.predict(X_val)\n",
    "\n",
    "print(\"Linear Regression Performance on Validation Set:\")\n",
    "print(f\"R² Score: {r2_score(y_val, lr_pred_val):.4f}\")\n",
    "print(f\"RMSE: {np.sqrt(mean_squared_error(y_val, lr_pred_val)):.4f}\")"
   ]
  },
  {
   "cell_type": "markdown",
   "id": "6d23c5ac",
   "metadata": {},
   "source": [
    "## 3.3 Ridge Regression Model"
   ]
  },
  {
   "cell_type": "code",
   "execution_count": 4,
   "id": "c21fb18b",
   "metadata": {},
   "outputs": [
    {
     "name": "stdout",
     "output_type": "stream",
     "text": [
      "Ridge Regression Performance on Validation Set:\n",
      "R² Score: 0.9996\n",
      "RMSE: 2.1835\n"
     ]
    }
   ],
   "source": [
    "# Train Ridge Regression model\n",
    "ridge_model = Ridge(alpha=1.0)\n",
    "ridge_model.fit(X_train, y_train)\n",
    "\n",
    "# Make predictions\n",
    "ridge_pred_val = ridge_model.predict(X_val)\n",
    "\n",
    "print(\"Ridge Regression Performance on Validation Set:\")\n",
    "print(f\"R² Score: {r2_score(y_val, ridge_pred_val):.4f}\")\n",
    "print(f\"RMSE: {np.sqrt(mean_squared_error(y_val, ridge_pred_val)):.4f}\")"
   ]
  },
  {
   "cell_type": "markdown",
   "id": "e237d7e8",
   "metadata": {},
   "source": [
    "## 3.4 Decision Tree Model"
   ]
  },
  {
   "cell_type": "code",
   "execution_count": 5,
   "id": "571bd608",
   "metadata": {},
   "outputs": [
    {
     "name": "stdout",
     "output_type": "stream",
     "text": [
      "Decision Tree Performance on Validation Set:\n",
      "R² Score: 0.9992\n",
      "RMSE: 3.2388\n"
     ]
    }
   ],
   "source": [
    "# Train Decision Tree model\n",
    "dt_model = DecisionTreeRegressor(random_state=42)\n",
    "dt_model.fit(X_train, y_train)\n",
    "\n",
    "# Make predictions\n",
    "dt_pred_val = dt_model.predict(X_val)\n",
    "\n",
    "print(\"Decision Tree Performance on Validation Set:\")\n",
    "print(f\"R² Score: {r2_score(y_val, dt_pred_val):.4f}\")\n",
    "print(f\"RMSE: {np.sqrt(mean_squared_error(y_val, dt_pred_val)):.4f}\")"
   ]
  },
  {
   "cell_type": "markdown",
   "id": "eaf9a795",
   "metadata": {},
   "source": [
    "## 3.5 Random Forest Model"
   ]
  },
  {
   "cell_type": "code",
   "execution_count": 6,
   "id": "2e729d89",
   "metadata": {},
   "outputs": [
    {
     "name": "stdout",
     "output_type": "stream",
     "text": [
      "Random Forest Performance on Validation Set:\n",
      "R² Score: 0.9996\n",
      "RMSE: 2.3473\n"
     ]
    }
   ],
   "source": [
    "# Train Random Forest model\n",
    "rf_model = RandomForestRegressor(n_estimators=100, random_state=42)\n",
    "rf_model.fit(X_train, y_train)\n",
    "\n",
    "# Make predictions\n",
    "rf_pred_val = rf_model.predict(X_val)\n",
    "\n",
    "print(\"Random Forest Performance on Validation Set:\")\n",
    "print(f\"R² Score: {r2_score(y_val, rf_pred_val):.4f}\")\n",
    "print(f\"RMSE: {np.sqrt(mean_squared_error(y_val, rf_pred_val)):.4f}\")"
   ]
  },
  {
   "cell_type": "markdown",
   "id": "1fcf4646",
   "metadata": {},
   "source": [
    "## 3.6 Save Models"
   ]
  },
  {
   "cell_type": "code",
   "execution_count": 9,
   "id": "0fc3399a",
   "metadata": {},
   "outputs": [
    {
     "name": "stdout",
     "output_type": "stream",
     "text": [
      "All models saved successfully!\n"
     ]
    }
   ],
   "source": [
    "import joblib\n",
    "\n",
    "# Save all models\n",
    "models = {\n",
    "    'linear': lr_model,\n",
    "    'ridge': ridge_model,\n",
    "    'decision_tree': dt_model,\n",
    "    'random_forest': rf_model\n",
    "}\n",
    "\n",
    "for name, model in models.items():\n",
    "    joblib.dump(model, f'./models/{name}_model.joblib')\n",
    "\n",
    "print(\"All models saved successfully!\")"
   ]
  },
  {
   "cell_type": "code",
   "execution_count": 10,
   "id": "2af7cbdc-478c-455d-9b84-362130971be8",
   "metadata": {},
   "outputs": [
    {
     "data": {
      "text/plain": [
       "['./models/decision_tree_model.joblib']"
      ]
     },
     "execution_count": 10,
     "metadata": {},
     "output_type": "execute_result"
    }
   ],
   "source": [
    "# Re-load the model if it's already saved but causing issues\n",
    "decision_tree_model = joblib.load('./models/decision_tree_model.joblib')\n",
    "\n",
    "# Re-save the model correctly\n",
    "joblib.dump(decision_tree_model, './models/decision_tree_model.joblib')"
   ]
  },
  {
   "cell_type": "markdown",
   "id": "conclusion-section",
   "metadata": {},
   "source": []
  }
 ],
 "metadata": {
  "kernelspec": {
   "display_name": "Python 3 (ipykernel)",
   "language": "python",
   "name": "python3"
  },
  "language_info": {
   "codemirror_mode": {
    "name": "ipython",
    "version": 3
   },
   "file_extension": ".py",
   "mimetype": "text/x-python",
   "name": "python",
   "nbconvert_exporter": "python",
   "pygments_lexer": "ipython3",
   "version": "3.9.20"
  }
 },
 "nbformat": 4,
 "nbformat_minor": 5
}
